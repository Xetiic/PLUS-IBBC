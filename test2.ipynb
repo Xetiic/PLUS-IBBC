{
 "cells": [
  {
   "cell_type": "code",
   "execution_count": 116,
   "metadata": {},
   "outputs": [],
   "source": [
    "def convert_rcp(filepath: str) -> dict:\n",
    "    import re\n",
    "\n",
    "    # Regular expression pattern to extract the RPC values\n",
    "    pattern = r'(-?\\d+(?:\\.\\d+)?)'\n",
    "\n",
    "    # Read the RPC values from the text file\n",
    "    with open(filepath, 'r') as file:\n",
    "        rpc_values = file.read()\n",
    "\n",
    "    # Extract the RPC values using the regular expression\n",
    "    values = [str(x) for x in re.findall(pattern, rpc_values)]\n",
    "\n",
    "    # Create a dictionary with the keys and values\n",
    "    rpc_dict = {\n",
    "        'LINE_OFF': values[0],\n",
    "        'SAMP_OFF': values[1],\n",
    "        'LAT_OFF': values[2],\n",
    "        'LONG_OFF': values[3],\n",
    "        'HEIGHT_OFF': values[4],\n",
    "        'LINE_SCALE': values[5],\n",
    "        'SAMP_SCALE': values[6],\n",
    "        'LAT_SCALE': values[7],\n",
    "        'LONG_SCALE': values[8],\n",
    "        'HEIGHT_SCALE': values[9],\n",
    "        'LINE_NUM_COEFF': ' '.join(values[10:30]),\n",
    "        'LINE_DEN_COEFF': ' '.join(values[30:50]),\n",
    "        'SAMP_NUM_COEFF': ' '.join(values[50:70]),\n",
    "        'SAMP_DEN_COEFF': ' '.join(values[70:90]),\n",
    "    \t'MIN_LONG': values[91],\n",
    "        'MIN_LAT': values[92],\n",
    "        'MAX_LONG': values[93],\n",
    "        'MAX_LAT': values[94],\n",
    "        'sampleOFFSET': values[95],\n",
    "        #'lineOFFSET': values[96],\n",
    "    }\n",
    "    return rpc_dict"
   ]
  },
  {
   "cell_type": "code",
   "execution_count": 117,
   "metadata": {},
   "outputs": [],
   "source": [
    "from osgeo import gdal, osr\n",
    "import rasterio\n",
    "\n",
    "def warp_image(image_ds, rpc, output):\n",
    "    # Create a georeferenced version of the image using the RPCs\n",
    "    driver = gdal.GetDriverByName('GTiff')\n",
    "    georef_ds = driver.Create(f'image_georef_{output}.tif', image_ds.RasterXSize, image_ds.RasterYSize, image_ds.RasterCount, gdal.GDT_Byte)\n",
    "    georef_ds.SetMetadata(rpc, 'RPC')\n",
    "    georef_ds.GetRasterBand(1).WriteArray(image_ds.GetRasterBand(1).ReadAsArray())\n",
    "    #print(georef_ds.GetMetadata('RPC'))\n",
    "    image_ds = None\n",
    "    georef_ds = None\n",
    "\n",
    "    # Reproject the images to the same projection (EPSG:3857 in this case)\n",
    "    # EPSG:4326, EPSG:7789 also not working\n",
    "    gdal.Warp(output, f'image_georef_{output}.tif')"
   ]
  },
  {
   "cell_type": "code",
   "execution_count": 118,
   "metadata": {},
   "outputs": [],
   "source": [
    "import cv2\n",
    "def stitch_images(image_1_path:str, image_2_path:str, outputpath:str):\n",
    "    # Load the images\n",
    "    image_1 = cv2.imread(image_1_path)\n",
    "    image_2 = cv2.imread(image_2_path)\n",
    "\n",
    "    # Create the stitcher object\n",
    "    stitcher = cv2.Stitcher.create()\n",
    "\n",
    "    # Stitch the images together\n",
    "    status, stitched_image = stitcher.stitch((image_1, image_2))\n",
    "\n",
    "    # Check if the stitching was successful\n",
    "    if status == cv2.Stitcher_OK:\n",
    "        # Save the stitched image\n",
    "        cv2.imwrite(outputpath, stitched_image)\n",
    "    else:\n",
    "        print('Stitching failed!')"
   ]
  },
  {
   "cell_type": "code",
   "execution_count": 119,
   "metadata": {},
   "outputs": [
    {
     "name": "stdout",
     "output_type": "stream",
     "text": [
      "(2624, 3375, 3) (2706, 3515, 3)\n"
     ]
    },
    {
     "ename": "error",
     "evalue": "OpenCV(4.6.0) /home/conda/feedstock_root/build_artifacts/libopencv_1671461518131/work/modules/calib3d/src/stereobm.cpp:1170: error: (-209:Sizes of input arguments do not match) All the images must have the same size in function 'compute'\n",
     "output_type": "error",
     "traceback": [
      "\u001b[0;31m---------------------------------------------------------------------------\u001b[0m",
      "\u001b[0;31merror\u001b[0m                                     Traceback (most recent call last)",
      "Cell \u001b[0;32mIn[119], line 18\u001b[0m\n\u001b[1;32m     15\u001b[0m \u001b[39mprint\u001b[39m(image_1\u001b[39m.\u001b[39mshape, image_2\u001b[39m.\u001b[39mshape)\n\u001b[1;32m     17\u001b[0m \u001b[39m# Compute the disparity map\u001b[39;00m\n\u001b[0;32m---> 18\u001b[0m disparity \u001b[39m=\u001b[39m bm\u001b[39m.\u001b[39;49mcompute(image_1, image_2)\n\u001b[1;32m     20\u001b[0m \u001b[39m# Estimate the relative depths of the pixels using the RPCs\u001b[39;00m\n\u001b[1;32m     21\u001b[0m rpc_1 \u001b[39m=\u001b[39m convert_rcp(\u001b[39m'\u001b[39m\u001b[39m/root/PLUS-IBBC/data/rpc_01.txt\u001b[39m\u001b[39m'\u001b[39m)\n",
      "\u001b[0;31merror\u001b[0m: OpenCV(4.6.0) /home/conda/feedstock_root/build_artifacts/libopencv_1671461518131/work/modules/calib3d/src/stereobm.cpp:1170: error: (-209:Sizes of input arguments do not match) All the images must have the same size in function 'compute'\n"
     ]
    }
   ],
   "source": [
    "import cv2\n",
    "import numpy as np\n",
    "\n",
    "# Load the images\n",
    "image_1 = cv2.imread('/root/PLUS-IBBC/image1_reprojected.tif')\n",
    "image_2 = cv2.imread('/root/PLUS-IBBC/image2_reprojected.tif')\n",
    "\n",
    "# Convert the images to grayscale\n",
    "gray_1 = cv2.cvtColor(image_1, cv2.COLOR_BGR2GRAY)\n",
    "gray_2 = cv2.cvtColor(image_2, cv2.COLOR_BGR2GRAY)\n",
    "\n",
    "# Set up the block matching algorithm\n",
    "bm = cv2.StereoBM_create()\n",
    "\n",
    "print(image_1.shape, image_2.shape)\n",
    "\n",
    "# Compute the disparity map\n",
    "disparity = bm.compute(image_1, image_2)\n",
    "\n",
    "# Estimate the relative depths of the pixels using the RPCs\n",
    "rpc_1 = convert_rcp('/root/PLUS-IBBC/data/rpc_01.txt')\n",
    "rpc_2 = convert_rcp('/root/PLUS-IBBC/data/rpc_02.txt')\n",
    "\n",
    "# Extract the RPC coefficients\n",
    "line_num_coeff_1 = np.array(rpc_1['LINE_NUM_COEFF'].split(), dtype=float)\n",
    "line_den_coeff_1 = np.array(rpc_1['LINE_DEN_COEFF'].split(), dtype=float)\n",
    "samp_num_coeff_1 = np.array(rpc_1['SAMP_NUM_COEFF'].split(), dtype=float)\n",
    "samp_den_coeff_1 = np.array(rpc_1['SAMP_DEN_COEFF'].split(), dtype=float)\n",
    "\n",
    "line_num_coeff_2 = np.array(rpc_2['LINE_NUM_COEFF'].split(), dtype=float)\n",
    "line_den_coeff_2 = np.array(rpc_2['LINE_DEN_COEFF'].split(), dtype=float)\n",
    "samp_num_coeff_2 = np.array(rpc_2['SAMP_NUM_COEFF'].split(), dtype=float)\n",
    "samp_den_coeff_2 = np.array(rpc_2['SAMP_DEN_COEFF'].split(), dtype=float)\n",
    "\n",
    "# Estimate the 3D positions of the points in the left image using the RPCs\n",
    "num_rows, num_cols = disparity.shape\n",
    "points_3d_1 = np.empty((num_rows, num_cols, 3))\n",
    "for i in range(num_rows):\n",
    "    for j in range(num_cols):\n",
    "        points_3d_1[i,j,0] = (line_num_coeff_1[0] + line_num_coeff_1[1] * i + line_num_coeff_1[2] * j + line_num_coeff_1[3] * i * j + line_num_coeff_1[4] * i**2 + line_num_coeff_1[5] * j**2) / (line_den_coeff_1[0] + line_den_coeff_1[1] * i + line_den_coeff_1[2] * j + line_den_coeff_1[3] * i * j + line_den_coeff_1[4] * i**2 + line_den_coeff_1[5] * j**2)\n",
    "        points_3d_1[i,j,1] = (samp_num_coeff_1[0] + samp_num_coeff_1[1] * i + samp_num_coeff_1[2] * j + samp_num_coeff_1[3] * i * j + samp_num_coeff_1[4] * i**2 + samp_num_coeff_1[5] * j**2) / (samp_den_coeff_1[0] + samp_den_coeff_1[1] * i + samp_den_coeff_1[2] * j + samp_den_coeff_1[3] * i * j + samp_den_coeff_1[4] * i**2 + samp_den_coeff_1[5] * j**2)\n",
    "        points_3d_1[i,j,2] = (points_3d_1[i,j,0] - points_3d_1[i,j,1]) * disparity[i, j]\n",
    "\n"
   ]
  },
  {
   "cell_type": "code",
   "execution_count": null,
   "metadata": {},
   "outputs": [],
   "source": [
    "import matplotlib.pyplot as plt\n",
    "from mpl_toolkits.mplot3d import Axes3D\n",
    "\n",
    "# Extract the x, y, and z coordinates of the points\n",
    "x = points_3d_1[:, :, 0]\n",
    "y = points_3d_1[:, :, 1]\n",
    "z = points_3d_1[:, :, 2]\n",
    "\n",
    "# Create a figure and a 3D Axes\n",
    "fig = plt.figure()\n",
    "ax = fig.add_subplot(111, projection='3d')\n",
    "\n",
    "# Plot the points\n",
    "ax.scatter(x, y, z)\n",
    "\n",
    "# Show the plot\n",
    "plt.show()"
   ]
  },
  {
   "cell_type": "code",
   "execution_count": null,
   "metadata": {},
   "outputs": [],
   "source": [
    "import cv2\n",
    "\n",
    "def generate_dem(image1_path:str, image2_path:str):\n",
    "    # Load the images\n",
    "    image_1 = cv2.imread(image1_path)\n",
    "    image_2 = cv2.imread(image2_path)\n",
    "\n",
    "    # Set up the stereo block matching algorithm\n",
    "    bm = cv2.StereoBM_create()\n",
    "\n",
    "    # Compute the disparity map\n",
    "    disparity = bm.compute(image_1, image_2)\n",
    "\n",
    "    # Convert the disparity map to a 3D point cloud\n",
    "    points_3d = cv2.reprojectImageTo3D(disparity, stereo_calibration_matrix)\n",
    "\n",
    "    # Save the point cloud to a file\n",
    "    np.save('point_cloud.npy', points_3d)"
   ]
  },
  {
   "cell_type": "code",
   "execution_count": 129,
   "metadata": {},
   "outputs": [
    {
     "name": "stderr",
     "output_type": "stream",
     "text": [
      "ERROR 1: Error: Computed -srcwin 1.56603e+07 -9.2394e+06 0 0 has negative width and/or height.\n",
      "ERROR 1: Error: Computed -srcwin 1.52514e+07 -8.99275e+06 0 0 has negative width and/or height.\n"
     ]
    },
    {
     "ename": "AttributeError",
     "evalue": "'Dataset' object has no attribute 'Close'",
     "output_type": "error",
     "traceback": [
      "\u001b[0;31m---------------------------------------------------------------------------\u001b[0m",
      "\u001b[0;31mAttributeError\u001b[0m                            Traceback (most recent call last)",
      "Cell \u001b[0;32mIn[129], line 50\u001b[0m\n\u001b[1;32m     47\u001b[0m ds2_cropped \u001b[39m=\u001b[39m gdal\u001b[39m.\u001b[39mTranslate(\u001b[39m'\u001b[39m\u001b[39mimage_2_cropped.tif\u001b[39m\u001b[39m'\u001b[39m, ds2, projWin\u001b[39m=\u001b[39m[min_x, max_y, max_x, min_y])\n\u001b[1;32m     49\u001b[0m \u001b[39m# Close the datasets\u001b[39;00m\n\u001b[0;32m---> 50\u001b[0m ds1\u001b[39m.\u001b[39;49mClose()\n\u001b[1;32m     51\u001b[0m ds2\u001b[39m.\u001b[39mClose()\n\u001b[1;32m     52\u001b[0m ds1_cropped\u001b[39m.\u001b[39mClose()\n",
      "\u001b[0;31mAttributeError\u001b[0m: 'Dataset' object has no attribute 'Close'"
     ]
    }
   ],
   "source": [
    "from osgeo import gdal\n",
    "\n",
    "# Open the first image\n",
    "ds1 = gdal.Open('image1_reprojected.tif')\n",
    "\n",
    "# Read the georeferencing information\n",
    "geotransform = ds1.GetGeoTransform()\n",
    "srs = osr.SpatialReference()\n",
    "srs.ImportFromWkt(ds1.GetProjection())\n",
    "\n",
    "# Get the size of the image in pixels\n",
    "x_size, y_size = ds1.GetRasterBand(1).GetBlockSize()\n",
    "\n",
    "# Calculate the extent of the image in the original projection\n",
    "min_x = abs(geotransform[0])\n",
    "max_x = abs(geotransform[0]) + abs(x_size * geotransform[1])\n",
    "min_y = abs(geotransform[3]) + abs(y_size * geotransform[5])\n",
    "max_y = abs(geotransform[3])\n",
    "extent_1 = (min_x, max_x, min_y, max_y)\n",
    "\n",
    "# Open the second image\n",
    "ds2 = gdal.Open('image2_reprojected.tif')\n",
    "\n",
    "# Read the georeferencing information\n",
    "geotransform = ds2.GetGeoTransform()\n",
    "srs = osr.SpatialReference()\n",
    "srs.ImportFromWkt(ds2.GetProjection())\n",
    "\n",
    "# Get the size of the image in pixels\n",
    "x_size, y_size = ds2.GetRasterBand(1).GetBlockSize()\n",
    "\n",
    "# Calculate the extent of the image in the original projection\n",
    "min_x = abs(geotransform[0])\n",
    "max_x = abs(geotransform[0]) + abs(x_size * geotransform[1])\n",
    "min_y = abs(geotransform[3]) + abs(y_size * geotransform[5])\n",
    "max_y = abs(geotransform[3])\n",
    "extent_2 = (min_x, max_x, min_y, max_y)\n",
    "\n",
    "# Calculate the intersection of the two extents\n",
    "min_x = max(extent_1[0], extent_2[0])\n",
    "max_x = min(extent_1[1], extent_2[1])\n",
    "min_y = max(extent_1[2], extent_2[2])\n",
    "max_y = min(extent_1[3], extent_2[3])\n",
    "\n",
    "# Crop the images to the intersection extent\n",
    "ds1_cropped = gdal.Translate('image_1_cropped.tif', ds1, projWin=[min_x, max_y, max_x, min_y])\n",
    "ds2_cropped = gdal.Translate('image_2_cropped.tif', ds2, projWin=[min_x, max_y, max_x, min_y])\n",
    "\n",
    "# Close the datasets\n",
    "ds1.Close()\n",
    "ds2.Close()\n",
    "ds1_cropped.Close()\n",
    "ds2_cropped.Close()\n"
   ]
  },
  {
   "cell_type": "code",
   "execution_count": null,
   "metadata": {},
   "outputs": [
    {
     "name": "stdout",
     "output_type": "stream",
     "text": [
      "(2624, 3375, 3)\n",
      "(2706, 3515, 3)\n"
     ]
    }
   ],
   "source": [
    "from osgeo import gdal, osr\n",
    "\n",
    "# Open the first image\n",
    "image_1_ds = gdal.Open('/root/PLUS-IBBC/data/01.tif')\n",
    "\n",
    "# Get the RPCs for the first image\n",
    "rpc_1 = convert_rcp(\"/root/PLUS-IBBC/data/rpc_01.txt\")\n",
    "#print(rpc_1)\n",
    "# Open the second image\n",
    "image_2_ds = gdal.Open('/root/PLUS-IBBC/data/02.tif')\n",
    "\n",
    "# Get the RPCs for the second image\n",
    "rpc_2 = convert_rcp('/root/PLUS-IBBC/data/rpc_02.txt')\n",
    "\n",
    "warp_image(image_1_ds,rpc_1,'image1_reprojected.tif')\n",
    "warp_image(image_2_ds,rpc_2,'image2_reprojected.tif')\n",
    "\n",
    "image_1 = cv2.imread('image1_reprojected.tif')\n",
    "print(image_1.shape)\n",
    "image_1 = cv2.imread('image2_reprojected.tif')\n",
    "print(image_1.shape)\n",
    "\n",
    "stitch_images('image1_reprojected.tif','image2_reprojected.tif','stitched.tif')"
   ]
  },
  {
   "cell_type": "code",
   "execution_count": null,
   "metadata": {},
   "outputs": [
    {
     "name": "stdout",
     "output_type": "stream",
     "text": [
      "{'ERR_BIAS': '-1', 'ERR_RAND': '-1', 'HEIGHT_OFF': '1295', 'HEIGHT_SCALE': '1315', 'LAT_OFF': '-21.2316081288', 'LAT_SCALE': '0.0911805852907', 'LINE_DEN_COEFF': '1 0.000997771806716 0.000893795146776 -2.56359129684e-05 -1.70851501528e-05 -3.21867506534e-07 2.1532776166e-05 8.13369760723e-05 -0.000270733342464 0.000126355623049 -3.65549547543e-07 1.73348528132e-07 1.0566912918e-05 2.48524027091e-07 5.68010228875e-07 -3.14981737526e-06 -1.46513589459e-07 -1.44200775386e-08 1.59078686184e-06 -3.43796798432e-09', 'LINE_NUM_COEFF': '-37.284870906 -0.389307964671 -39.0126569672 0.756244483967 0.0365724832883 -0.000699590543671 5.69148667027e-05 0.00488795358124 -0.0493487209079 -0.00486335415172 6.61460426948e-05 -4.3251938614e-05 -0.00106436732503 -5.45489448461e-05 -0.00330149225713 -0.0169088089294 -0.00493745513823 6.47041405124e-05 0.000507944645931 9.58883770134e-05', 'LINE_OFF': '19403.5', 'LINE_SCALE': '512', 'LONG_OFF': '55.7119698801', 'LONG_SCALE': '0.0985353286675', 'SAMP_DEN_COEFF': '1 -0.000284860254189 -0.00052978538308 -0.00103796003315 -1.31064144938e-05 1.15489105827e-06 -4.43060264739e-07 2.9975738656e-06 2.01322436172e-06 -4.17753982621e-06 -1.26431542483e-07 -7.81727809737e-09 -1.16012565638e-07 3.82954839127e-09 1.99730782682e-07 2.12670502991e-06 2.63893880667e-09 2.15736481798e-08 -7.45465130415e-08 5.17836239128e-09', 'SAMP_NUM_COEFF': '-13.5564562154 39.3860841344 -0.0427740622694 0.275292011929 0.0209037688985 0.0398356057957 -0.0178925782936 -0.0421615828479 0.0241060371425 0.000605633181358 8.44134747117e-05 -0.000310265910803 -0.000334358203674 -9.98841387442e-05 0.00150262989976 0.00587427322315 -6.15040098618e-06 -0.000108287671902 -0.000380016064247 -5.97860985933e-07', 'SAMP_OFF': '19999.5', 'SAMP_SCALE': '512'}\n"
     ]
    }
   ],
   "source": [
    "# Open the image\n",
    "image_ds = gdal.Open('data/test1.tif')\n",
    "\n",
    "# Get the RPCs for the image\n",
    "rpc = image_ds.GetMetadata('RPC')\n",
    "print(rpc)"
   ]
  }
 ],
 "metadata": {
  "kernelspec": {
   "display_name": "bcc",
   "language": "python",
   "name": "python3"
  },
  "language_info": {
   "codemirror_mode": {
    "name": "ipython",
    "version": 3
   },
   "file_extension": ".py",
   "mimetype": "text/x-python",
   "name": "python",
   "nbconvert_exporter": "python",
   "pygments_lexer": "ipython3",
   "version": "3.11.0"
  },
  "orig_nbformat": 4,
  "vscode": {
   "interpreter": {
    "hash": "f887073d70cb8e3303674d78e7e2b1fe36078d5aa2432dc2f618677117818e8a"
   }
  }
 },
 "nbformat": 4,
 "nbformat_minor": 2
}
